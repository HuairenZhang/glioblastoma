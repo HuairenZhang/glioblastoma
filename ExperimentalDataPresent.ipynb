{
 "cells": [
  {
   "cell_type": "markdown",
   "metadata": {},
   "source": [
    "# Import modules"
   ]
  },
  {
   "cell_type": "code",
   "execution_count": 1,
   "metadata": {},
   "outputs": [],
   "source": [
    "import pandas as pd\n",
    "import numpy as np\n",
    "import matplotlib.pyplot as plt\n",
    "from scipy import stats\n",
    "from IPython.display import Image\n",
    "from scipy.stats import pearsonr\n",
    "import seaborn as sns\n",
    "import math\n",
    "from sklearn.metrics import r2_score\n",
    "from multiprocessing import Pool"
   ]
  },
  {
   "cell_type": "markdown",
   "metadata": {},
   "source": [
    "# Import data\n",
    "\n",
    "The experimental data records the relative barcode frequency for each barcodes across all the transplantation samples."
   ]
  },
  {
   "cell_type": "code",
   "execution_count": 2,
   "metadata": {},
   "outputs": [],
   "source": [
    "experiment = pd.read_excel(\"Table_1_experimental_clonal_size.xlsx\")"
   ]
  },
  {
   "cell_type": "code",
   "execution_count": 3,
   "metadata": {},
   "outputs": [
    {
     "data": {
      "text/html": [
       "<div>\n",
       "<style scoped>\n",
       "    .dataframe tbody tr th:only-of-type {\n",
       "        vertical-align: middle;\n",
       "    }\n",
       "\n",
       "    .dataframe tbody tr th {\n",
       "        vertical-align: top;\n",
       "    }\n",
       "\n",
       "    .dataframe thead th {\n",
       "        text-align: right;\n",
       "    }\n",
       "</style>\n",
       "<table border=\"1\" class=\"dataframe\">\n",
       "  <thead>\n",
       "    <tr style=\"text-align: right;\">\n",
       "      <th></th>\n",
       "      <th>Barcode</th>\n",
       "      <th>(1)719 Ipsi</th>\n",
       "      <th>(1)719 Contra</th>\n",
       "      <th>(1,1V)719 Ipsi</th>\n",
       "      <th>(1,1V)719 Contra</th>\n",
       "      <th>(1,2V)719 Ipsi</th>\n",
       "      <th>(1,2V)719 Contra</th>\n",
       "      <th>(1,3V)719 Ipsi</th>\n",
       "      <th>(1,3V)719 Contra</th>\n",
       "      <th>(1,1T)719 Ipsi</th>\n",
       "      <th>...</th>\n",
       "      <th>(1,1T,1V)719 Ipsi</th>\n",
       "      <th>(1,1T,1V)719 Contra</th>\n",
       "      <th>(1,1T,2V)719 Ipsi</th>\n",
       "      <th>(1,1T,2V)719 Contra</th>\n",
       "      <th>(1,1T,1T)719 Ipsi</th>\n",
       "      <th>(1,1T,1T)719 Contra</th>\n",
       "      <th>(1,1T,2T)719 Ipsi</th>\n",
       "      <th>(1,1T,2T)719 Contra</th>\n",
       "      <th>(1,1T,3T)719 Ipsi</th>\n",
       "      <th>(1,1T,3T)719 Contra</th>\n",
       "    </tr>\n",
       "  </thead>\n",
       "  <tbody>\n",
       "    <tr>\n",
       "      <th>0</th>\n",
       "      <td>AAATCAAGATCGAAACTGGTCAAACTG</td>\n",
       "      <td>0.001608</td>\n",
       "      <td>0.000614</td>\n",
       "      <td>0.002460</td>\n",
       "      <td>0.002479</td>\n",
       "      <td>0.002866</td>\n",
       "      <td>0.001103</td>\n",
       "      <td>0.004939</td>\n",
       "      <td>0.006328</td>\n",
       "      <td>0.00000</td>\n",
       "      <td>...</td>\n",
       "      <td>0.000000</td>\n",
       "      <td>0.0</td>\n",
       "      <td>0.000000</td>\n",
       "      <td>0.0</td>\n",
       "      <td>0.0</td>\n",
       "      <td>0.0</td>\n",
       "      <td>0.005538</td>\n",
       "      <td>0.0</td>\n",
       "      <td>0.0</td>\n",
       "      <td>0.003078</td>\n",
       "    </tr>\n",
       "    <tr>\n",
       "      <th>1</th>\n",
       "      <td>AAATCAGGATGCAAACAGGTGTAACGG</td>\n",
       "      <td>0.001913</td>\n",
       "      <td>0.002575</td>\n",
       "      <td>0.003878</td>\n",
       "      <td>0.004407</td>\n",
       "      <td>0.003090</td>\n",
       "      <td>0.003762</td>\n",
       "      <td>0.000000</td>\n",
       "      <td>0.000000</td>\n",
       "      <td>0.00000</td>\n",
       "      <td>...</td>\n",
       "      <td>0.000000</td>\n",
       "      <td>0.0</td>\n",
       "      <td>0.000000</td>\n",
       "      <td>0.0</td>\n",
       "      <td>0.0</td>\n",
       "      <td>0.0</td>\n",
       "      <td>0.000000</td>\n",
       "      <td>0.0</td>\n",
       "      <td>0.0</td>\n",
       "      <td>0.000000</td>\n",
       "    </tr>\n",
       "    <tr>\n",
       "      <th>2</th>\n",
       "      <td>AAATCCAGATCGAAATGGGTTTAACTT</td>\n",
       "      <td>0.002520</td>\n",
       "      <td>0.000000</td>\n",
       "      <td>0.005109</td>\n",
       "      <td>0.003288</td>\n",
       "      <td>0.005141</td>\n",
       "      <td>0.000000</td>\n",
       "      <td>0.002147</td>\n",
       "      <td>0.002167</td>\n",
       "      <td>0.00199</td>\n",
       "      <td>...</td>\n",
       "      <td>0.000000</td>\n",
       "      <td>0.0</td>\n",
       "      <td>0.003741</td>\n",
       "      <td>0.0</td>\n",
       "      <td>0.0</td>\n",
       "      <td>0.0</td>\n",
       "      <td>0.000000</td>\n",
       "      <td>0.0</td>\n",
       "      <td>0.0</td>\n",
       "      <td>0.000000</td>\n",
       "    </tr>\n",
       "    <tr>\n",
       "      <th>3</th>\n",
       "      <td>AAATCCAGATGGAAAGAGGTAGAACCC</td>\n",
       "      <td>0.001200</td>\n",
       "      <td>0.000743</td>\n",
       "      <td>0.001532</td>\n",
       "      <td>0.001386</td>\n",
       "      <td>0.002106</td>\n",
       "      <td>0.000000</td>\n",
       "      <td>0.000000</td>\n",
       "      <td>0.000000</td>\n",
       "      <td>0.00000</td>\n",
       "      <td>...</td>\n",
       "      <td>0.000000</td>\n",
       "      <td>0.0</td>\n",
       "      <td>0.000000</td>\n",
       "      <td>0.0</td>\n",
       "      <td>0.0</td>\n",
       "      <td>0.0</td>\n",
       "      <td>0.000000</td>\n",
       "      <td>0.0</td>\n",
       "      <td>0.0</td>\n",
       "      <td>0.000000</td>\n",
       "    </tr>\n",
       "    <tr>\n",
       "      <th>4</th>\n",
       "      <td>AAATCTCGATGGAAATCGGTCAAACAA</td>\n",
       "      <td>0.002975</td>\n",
       "      <td>0.001134</td>\n",
       "      <td>0.004104</td>\n",
       "      <td>0.002142</td>\n",
       "      <td>0.009155</td>\n",
       "      <td>0.001001</td>\n",
       "      <td>0.009424</td>\n",
       "      <td>0.010710</td>\n",
       "      <td>0.00199</td>\n",
       "      <td>...</td>\n",
       "      <td>0.002222</td>\n",
       "      <td>0.0</td>\n",
       "      <td>0.000000</td>\n",
       "      <td>0.0</td>\n",
       "      <td>0.0</td>\n",
       "      <td>0.0</td>\n",
       "      <td>0.000000</td>\n",
       "      <td>0.0</td>\n",
       "      <td>0.0</td>\n",
       "      <td>0.000000</td>\n",
       "    </tr>\n",
       "  </tbody>\n",
       "</table>\n",
       "<p>5 rows × 39 columns</p>\n",
       "</div>"
      ],
      "text/plain": [
       "                       Barcode  (1)719 Ipsi  (1)719 Contra  (1,1V)719 Ipsi  \\\n",
       "0  AAATCAAGATCGAAACTGGTCAAACTG     0.001608       0.000614        0.002460   \n",
       "1  AAATCAGGATGCAAACAGGTGTAACGG     0.001913       0.002575        0.003878   \n",
       "2  AAATCCAGATCGAAATGGGTTTAACTT     0.002520       0.000000        0.005109   \n",
       "3  AAATCCAGATGGAAAGAGGTAGAACCC     0.001200       0.000743        0.001532   \n",
       "4  AAATCTCGATGGAAATCGGTCAAACAA     0.002975       0.001134        0.004104   \n",
       "\n",
       "   (1,1V)719 Contra  (1,2V)719 Ipsi  (1,2V)719 Contra  (1,3V)719 Ipsi  \\\n",
       "0          0.002479        0.002866          0.001103        0.004939   \n",
       "1          0.004407        0.003090          0.003762        0.000000   \n",
       "2          0.003288        0.005141          0.000000        0.002147   \n",
       "3          0.001386        0.002106          0.000000        0.000000   \n",
       "4          0.002142        0.009155          0.001001        0.009424   \n",
       "\n",
       "   (1,3V)719 Contra  (1,1T)719 Ipsi  ...  (1,1T,1V)719 Ipsi  \\\n",
       "0          0.006328         0.00000  ...           0.000000   \n",
       "1          0.000000         0.00000  ...           0.000000   \n",
       "2          0.002167         0.00199  ...           0.000000   \n",
       "3          0.000000         0.00000  ...           0.000000   \n",
       "4          0.010710         0.00199  ...           0.002222   \n",
       "\n",
       "   (1,1T,1V)719 Contra  (1,1T,2V)719 Ipsi  (1,1T,2V)719 Contra  \\\n",
       "0                  0.0           0.000000                  0.0   \n",
       "1                  0.0           0.000000                  0.0   \n",
       "2                  0.0           0.003741                  0.0   \n",
       "3                  0.0           0.000000                  0.0   \n",
       "4                  0.0           0.000000                  0.0   \n",
       "\n",
       "   (1,1T,1T)719 Ipsi  (1,1T,1T)719 Contra  (1,1T,2T)719 Ipsi  \\\n",
       "0                0.0                  0.0           0.005538   \n",
       "1                0.0                  0.0           0.000000   \n",
       "2                0.0                  0.0           0.000000   \n",
       "3                0.0                  0.0           0.000000   \n",
       "4                0.0                  0.0           0.000000   \n",
       "\n",
       "   (1,1T,2T)719 Contra  (1,1T,3T)719 Ipsi  (1,1T,3T)719 Contra  \n",
       "0                  0.0                0.0             0.003078  \n",
       "1                  0.0                0.0             0.000000  \n",
       "2                  0.0                0.0             0.000000  \n",
       "3                  0.0                0.0             0.000000  \n",
       "4                  0.0                0.0             0.000000  \n",
       "\n",
       "[5 rows x 39 columns]"
      ]
     },
     "execution_count": 3,
     "metadata": {},
     "output_type": "execute_result"
    }
   ],
   "source": [
    "experiment.head()"
   ]
  },
  {
   "cell_type": "code",
   "execution_count": 4,
   "metadata": {},
   "outputs": [
    {
     "data": {
      "text/plain": [
       "(2070, 39)"
      ]
     },
     "execution_count": 4,
     "metadata": {},
     "output_type": "execute_result"
    }
   ],
   "source": [
    "np.shape(experiment)"
   ]
  },
  {
   "cell_type": "code",
   "execution_count": 5,
   "metadata": {},
   "outputs": [],
   "source": [
    "passage = experiment.columns"
   ]
  },
  {
   "cell_type": "code",
   "execution_count": 6,
   "metadata": {},
   "outputs": [
    {
     "data": {
      "text/plain": [
       "Index(['(1)719 Ipsi', '(1)719 Contra', '(1,1V)719 Ipsi', '(1,1V)719 Contra',\n",
       "       '(1,2V)719 Ipsi', '(1,2V)719 Contra', '(1,3V)719 Ipsi',\n",
       "       '(1,3V)719 Contra', '(1,1T)719 Ipsi', '(1,1T)719 Contra',\n",
       "       '(1,2T)719 Ipsi', '(1,2T)719 Contra', '(1C,1)719 Ipsi',\n",
       "       '(1C,1)719 Contra', '(1C,2)719 Ipsi', '(1C,2)719 Contra',\n",
       "       '(1,2V,1)719 Ipsi', '(1,2V,1)719 Contra', '(1,2V,2)719 Ipsi',\n",
       "       '(1,2V,2)719 Contra', '(1,2V,3)719 Ipsi', '(1,2V,3)719 Contra',\n",
       "       '(1,3V,1V)719 Ipsi', '(1,3V,1V)719 Contra', '(1,3V,2V)719 Ipsi',\n",
       "       '(1,3V,2V)719 Contra', '(1,3V,1T)719 Ipsi', '(1,3V,1T)719 Contra',\n",
       "       '(1,1T,1V)719 Ipsi', '(1,1T,1V)719 Contra', '(1,1T,2V)719 Ipsi',\n",
       "       '(1,1T,2V)719 Contra', '(1,1T,1T)719 Ipsi', '(1,1T,1T)719 Contra',\n",
       "       '(1,1T,2T)719 Ipsi', '(1,1T,2T)719 Contra', '(1,1T,3T)719 Ipsi',\n",
       "       '(1,1T,3T)719 Contra'],\n",
       "      dtype='object')"
      ]
     },
     "execution_count": 6,
     "metadata": {},
     "output_type": "execute_result"
    }
   ],
   "source": [
    "passage[1:]"
   ]
  },
  {
   "cell_type": "code",
   "execution_count": 7,
   "metadata": {},
   "outputs": [],
   "source": [
    "primary = np.vstack([experiment[\"(1)719 Ipsi\"], experiment[\"(1)719 Contra\"]])\n",
    "secondary = np.vstack([\n",
    "#     experiment[\"(1,1V)719 Ipsi\"], experiment[\"(1,1V)719 Contra\"],\n",
    "                       experiment[\"(1,2V)719 Ipsi\"], experiment[\"(1,2V)719 Contra\"],\n",
    "#                        experiment[\"(1,3V)719 Ipsi\"], experiment[\"(1,3V)719 Contra\"],\n",
    "#                        experiment[\"(1,1T)719 Ipsi\"], experiment[\"(1,1T)719 Contra\"],\n",
    "#                        experiment[\"(1,2T)719 Ipsi\"], experiment[\"(1,2T)719 Contra\"],\n",
    "#                        experiment[\"(1C,1)719 Ipsi\"], experiment[\"(1C,1)719 Contra\"],\n",
    "#                        experiment[\"(1C,2)719 Ipsi\"], experiment[\"(1C,2)719 Contra\"]\n",
    "                      ])\n",
    "tertiary = np.vstack([experiment[\"(1,2V,1)719 Ipsi\"], experiment[\"(1,2V,1)719 Contra\"]\n",
    "#                       ,experiment[\"(1,2V,2)719 Ipsi\"], experiment[\"(1,2V,2)719 Contra\"],\n",
    "#                       experiment[\"(1,2V,3)719 Ipsi\"], experiment[\"(1,2V,3)719 Contra\"],\n",
    "#                       experiment[\"(1,3V,1V)719 Ipsi\"], experiment[\"(1,3V,1V)719 Contra\"],\n",
    "#                       experiment[\"(1,3V,2V)719 Ipsi\"], experiment[\"(1,3V,2V)719 Contra\"],\n",
    "#                       experiment[\"(1,3V,1T)719 Ipsi\"], experiment[\"(1,3V,1T)719 Contra\"],\n",
    "#                       experiment[\"(1,1T,1V)719 Ipsi\"], experiment[\"(1,1T,1V)719 Contra\"],\n",
    "#                       experiment[\"(1,1T,2V)719 Ipsi\"], experiment[\"(1,1T,2V)719 Contra\"],\n",
    "#                       experiment[\"(1,1T,1T)719 Ipsi\"], experiment[\"(1,1T,1T)719 Contra\"],\n",
    "#                       experiment[\"(1,1T,2T)719 Ipsi\"], experiment[\"(1,1T,2T)719 Contra\"],\n",
    "#                       experiment[\"(1,1T,3T)719 Ipsi\"], experiment[\"(1,1T,3T)719 Contra\"]\n",
    "                     ])\n"
   ]
  },
  {
   "cell_type": "code",
   "execution_count": 8,
   "metadata": {},
   "outputs": [
    {
     "data": {
      "text/plain": [
       "<matplotlib.legend.Legend at 0x1a1da5d7b8>"
      ]
     },
     "execution_count": 8,
     "metadata": {},
     "output_type": "execute_result"
    },
    {
     "data": {
      "image/png": "[encoded data removed]",
      "text/plain": [
       "<Figure size 432x288 with 1 Axes>"
      ]
     },
     "metadata": {
      "needs_background": "light"
     },
     "output_type": "display_data"
    }
   ],
   "source": [
    "plt.hist(primary[0], label = \"Ipsi\", alpha = 0.4)\n",
    "plt.hist(primary[1], label = \"Contra\", alpha = 0.4)\n",
    "plt.legend()"
   ]
  },
  {
   "cell_type": "markdown",
   "metadata": {},
   "source": [
    "# Clone size correlation cross passage"
   ]
  },
  {
   "cell_type": "code",
   "execution_count": 9,
   "metadata": {},
   "outputs": [],
   "source": [
    "# c12 = np.zeros([len(primary), len(secondary)])\n",
    "# for p in range(len(primary)):\n",
    "#     for s in range(len(secondary)):\n",
    "#         c12[p][s],_ = pearsonr(primary[p], secondary[s])\n",
    "\n",
    "# c13 = np.zeros([len(primary), len(tertiary)])\n",
    "# for p in range(len(primary)):\n",
    "#     for t in range(len(tertiary)):\n",
    "#         c13[p][t],_ = pearsonr(primary[p], tertiary[t])\n",
    "        \n",
    "# c23 = np.zeros([len(secondary), len(tertiary)])\n",
    "# for s in range(len(secondary)):\n",
    "#     for t in range(len(tertiary)):\n",
    "#         c23[s][t],_ = pearsonr(secondary[s], tertiary[t])\n",
    "\n",
    "# C12 = np.asarray(c12).reshape(-1)\n",
    "# C13 = np.asarray(c13).reshape(-1)\n",
    "# C23 = np.asarray(c23).reshape(-1)\n",
    "\n",
    "# data = pd.DataFrame({\"passage\": \n",
    "#                      np.append(np.append(\n",
    "#                          np.repeat(\"c12\",len(C12)),\n",
    "#                                                     np.repeat(\"c13\",len(C13))),\n",
    "#                                           np.repeat(\"c23\",len(C23))),\n",
    "#                      \"correlation\": \n",
    "#                      np.append(np.append(\n",
    "#                          C12,\n",
    "#                                                         C13),\n",
    "#                                               C23)\n",
    "#                     })\n",
    "\n",
    "# sim = pd.DataFrame({\"passage\":[\"c12\", \"c13\", \"c23\"],\n",
    "#                    \"correlation\":[0.615, 0.468, 0.83]})\n",
    "\n",
    "# sns.violinplot(x=\"passage\",y=\"correlation\",data=data)\n",
    "# sns.pointplot(x=\"passage\",y=\"correlation\",data=sim,color=\"yellow\")"
   ]
  },
  {
   "cell_type": "markdown",
   "metadata": {},
   "source": [
    "# Binning for relative barcode frequency\n",
    "\n",
    "In Lan et al., the barcode frequency distribution h(x) with x being the relative barcode frequency are generated by binning the experimentally obtained barcode frequencies with a binsize of (max(x) - min(x))/100."
   ]
  },
  {
   "cell_type": "code",
   "execution_count": 10,
   "metadata": {},
   "outputs": [],
   "source": [
    "def binnedCloneSizeDistribution(cloneSize):\n",
    "    binnedCloneSize = np.zeros((2,100))\n",
    "    binSize = (max(cloneSize) - min(cloneSize))/100\n",
    "    for B in range(100):\n",
    "        index = np.all([[min(cloneSize) + binSize*B < cloneSize], [min(cloneSize) + binSize*(B+1) >= cloneSize]], axis = 0)\n",
    "        binnedCloneSize[0][B] = min(cloneSize) + binSize*(B+0.5)\n",
    "        binnedCloneSize[1][B] = sum(index[0])\n",
    "    binnedCloneSize[1][:] = binnedCloneSize[1]/sum(binnedCloneSize[1])\n",
    "    return(binnedCloneSize)\n",
    "\n",
    "# primaryBinned = np.array([binnedCloneSizeDistribution(i) for i in primary])\n",
    "# secondaryBinned = np.array([binnedCloneSizeDistribution(i) for i in secondary])\n",
    "# tertiaryBinned = np.array([binnedCloneSizeDistribution(i) for i in tertiary])"
   ]
  },
  {
   "cell_type": "code",
   "execution_count": 11,
   "metadata": {},
   "outputs": [],
   "source": [
    "# plt.plot(primaryBinned[0][0],primaryBinned[0][1], label = \"Ipsi\")\n",
    "# plt.plot(primaryBinned[1][0],primaryBinned[1][1], label = \"Contra\")\n",
    "# plt.title(\"primary\")\n",
    "# plt.legend()"
   ]
  },
  {
   "cell_type": "code",
   "execution_count": 12,
   "metadata": {},
   "outputs": [],
   "source": [
    "# plt.plot(secondaryBinned[0][0],secondaryBinned[0][1], label = \"replicate\")\n",
    "# plt.plot(secondaryBinned[1][0],secondaryBinned[1][1], label = \"replicate\")\n",
    "# plt.title(\"secondary\")\n",
    "# plt.legend()"
   ]
  },
  {
   "cell_type": "code",
   "execution_count": 13,
   "metadata": {},
   "outputs": [],
   "source": [
    "# plt.plot(tertiaryBinned[0][0],tertiaryBinned[0][1], label = \"replicate\")\n",
    "# plt.plot(tertiaryBinned[1][0],tertiaryBinned[1][1], label = \"replicate\")\n",
    "# plt.title(\"tertiary\")\n",
    "# plt.legend()"
   ]
  },
  {
   "cell_type": "markdown",
   "metadata": {},
   "source": [
    "# Check negative binomial distribution using first incomplete moment"
   ]
  },
  {
   "cell_type": "code",
   "execution_count": 14,
   "metadata": {},
   "outputs": [],
   "source": [
    "def firstIncompleteMomentUsingCloneSize(cloneSizes):\n",
    "    cloneSizes = np.array(cloneSizes)\n",
    "    averageCloneSize = np.mean(cloneSizes)\n",
    "    cloneSizeRange = np.unique(cloneSizes)\n",
    "    freq = np.array([(list(cloneSizes).count(i)/len(cloneSizes)) for i in cloneSizeRange])\n",
    "    cloneProb = np.array([(size*prob) for (size, prob) in zip(cloneSizeRange, freq)])\n",
    "    mu = np.zeros(len(cloneProb))\n",
    "    for i in range(len(cloneProb)):\n",
    "        mu[i]= sum(cloneProb[i:])/averageCloneSize\n",
    "    return(mu)\n",
    "\n",
    "def firstIncompleteMomentUsingFrequency(frequency):\n",
    "    cloneProb = np.array([(f*i) for (i,f) in enumerate(frequency)])/sum(frequency)\n",
    "    averageCloneSize = sum(cloneProb)\n",
    "    cloneSizeRange = range(len(frequency))\n",
    "    mu = np.zeros(len(cloneProb))\n",
    "    for i in range(len(cloneProb)):\n",
    "        mu[i]= sum(cloneProb[i:])/averageCloneSize\n",
    "    return(mu)\n",
    "\n",
    "# def logPlot(X,y):\n",
    "#     Y = np.log(y)\n",
    "#     plt.plot(X,Y,'b')\n",
    "#     plt.plot(X, np.poly1d(np.polyfit(X, Y, 1))(X),'r')\n",
    "#     plt.xlabel('clone size')\n",
    "#     plt.ylabel('log first incomplete moment')\n",
    "\n",
    "# def firstIncompleteMomentLogPlot():\n",
    "#     for p in primary:\n",
    "#         pRange = np.unique(p)\n",
    "#         pMu = firstIncompleteMoment(p)\n",
    "#         plt.plot(pRange, pMu, \"black\")\n",
    "#     for s in secondary:\n",
    "#         sRange = np.unique(s)\n",
    "#         sMu = firstIncompleteMoment(s)\n",
    "#         plt.plot(sRange, sMu, \"red\")\n",
    "#     for t in tertiary:\n",
    "#         tRange = np.unique(t)\n",
    "#         tMu = firstIncompleteMoment(t)\n",
    "#         plt.plot(tRange, tMu, \"darkturquoise\")    \n",
    "#     plt.xlabel('clone size')\n",
    "#     plt.ylabel('log first incomplete moment')\n",
    "#     plt.yscale('log')\n",
    "\n",
    "\n"
   ]
  },
  {
   "cell_type": "code",
   "execution_count": 15,
   "metadata": {},
   "outputs": [],
   "source": [
    "# primaryBinnedMuIpsi = firstIncompleteMomentUsingFrequency(primaryBinned[0][1])\n",
    "# YIpsi = np.array([math.log(i) for i in primaryBinnedMuIpsi])\n",
    "# XIpsi = primaryBinned[0][0]\n",
    "\n",
    "# primaryBinnedMuCon = firstIncompleteMomentUsingFrequency(primaryBinned[1][1])\n",
    "# YCon = np.array([math.log(i) for i in primaryBinnedMuCon])\n",
    "# XCon = primaryBinned[1][0]"
   ]
  },
  {
   "cell_type": "code",
   "execution_count": 16,
   "metadata": {},
   "outputs": [],
   "source": [
    "# plt.plot(XIpsi, YIpsi, label = \"Ipsi\", color = \"r\")\n",
    "# plt.plot(XIpsi, np.poly1d(np.polyfit(XIpsi, YIpsi, 1))(XIpsi), linestyle = \"dashed\", color = \"r\")\n",
    "# plt.plot(XCon, YCon, label = \"Contra\", color = \"b\")\n",
    "# plt.plot(XCon, np.poly1d(np.polyfit(XCon, YCon, 1))(XCon), linestyle = \"dashed\", color = \"b\")\n",
    "# plt.legend()"
   ]
  },
  {
   "cell_type": "code",
   "execution_count": 17,
   "metadata": {},
   "outputs": [],
   "source": [
    "def searchn0(frequency):\n",
    "    mu = firstIncompleteMomentUsingFrequency(frequency[1])\n",
    "    index = mu > 0\n",
    "    y = mu[index]\n",
    "    Y = np.array([math.log(i) for i in y])\n",
    "    X = frequency[0][index]\n",
    "    k,_,_,_,_=stats.linregress(X,Y)\n",
    "    return(-1/k)\n"
   ]
  },
  {
   "cell_type": "markdown",
   "metadata": {},
   "source": [
    "# Barcode survival probability"
   ]
  },
  {
   "cell_type": "code",
   "execution_count": 18,
   "metadata": {},
   "outputs": [],
   "source": [
    "primaryClone = np.array([sum(i) for i in np.transpose(primary)])\n",
    "secondaryClone = np.array([sum(i) for i in np.transpose(secondary)])\n",
    "tertiaryClone = np.array([sum(i) for i in np.transpose(tertiary)])"
   ]
  },
  {
   "cell_type": "code",
   "execution_count": 19,
   "metadata": {},
   "outputs": [],
   "source": [
    "# len(sorted(primaryClone)[19:])"
   ]
  },
  {
   "cell_type": "code",
   "execution_count": 20,
   "metadata": {},
   "outputs": [],
   "source": [
    "def truncateBarcodeFreq(barcodeFrequency,n):\n",
    "    return(sorted(barcodeFrequency)[n:])\n",
    "\n",
    "def binnedPassageCloneSizeDistribution(cloneSize):\n",
    "    binnedCloneSize = np.zeros((2,100))\n",
    "    binSize = (max(cloneSize) - min(cloneSize))/100\n",
    "    for B in range(100):\n",
    "        index = np.all([[min(cloneSize) + binSize*B < cloneSize], [min(cloneSize) + binSize*(B+1) >= cloneSize]], axis = 0)\n",
    "        binnedCloneSize[0][B] = min(cloneSize) + binSize*(B+0.5)\n",
    "        binnedCloneSize[1][B] = sum(index[0])\n",
    "    return(binnedCloneSize)\n",
    "\n",
    "# def survivalUsingCloneSize(cloneSize, n0, fraction, cellNumber):\n",
    "#     index = np.where(cloneSize > n0*fraction)\n",
    "#     survival = len(index[0])/cellNumber\n",
    "#     return(survival*100)\n",
    "\n",
    "def survivalUsingfrequency(frequency, n0, fraction, cellNumber):\n",
    "    survival = sum(frequency[1][frequency[0]>n0*fraction])/cellNumber\n",
    "    return(survival*100)\n",
    "\n",
    "def searchN(n):\n",
    "    cloneSize = tertiaryClone\n",
    "    truncatedBarFreq = truncateBarcodeFreq(cloneSize,n)    \n",
    "    binnedCloneSize = binnedPassageCloneSizeDistribution(truncatedBarFreq)\n",
    "    n0 = searchn0(binnedCloneSize)   \n",
    "    mu = firstIncompleteMomentUsingFrequency(binnedCloneSize[1])\n",
    "    index = mu > 0\n",
    "    y = mu[index]\n",
    "    Y = np.array([math.log(i) for i in y])\n",
    "    X = binnedCloneSize[0][index]\n",
    "    r2 = r2_score(Y, X)\n",
    "    return(np.array([n0, r2]))"
   ]
  },
  {
   "cell_type": "code",
   "execution_count": 21,
   "metadata": {},
   "outputs": [
    {
     "name": "stdout",
     "output_type": "stream",
     "text": [
      "CPU times: user 12.4 ms, sys: 3.67 ms, total: 16 ms\n",
      "Wall time: 11.4 s\n"
     ]
    }
   ],
   "source": [
    "n = np.array(range(20))\n",
    "\n",
    "if __name__ == '__main__':\n",
    "    with Pool(8) as p:\n",
    "        %time truncatedBarFreqResult = p.map(searchN, n)"
   ]
  },
  {
   "cell_type": "code",
   "execution_count": 22,
   "metadata": {},
   "outputs": [
    {
     "data": {
      "text/html": [
       "<div>\n",
       "<style scoped>\n",
       "    .dataframe tbody tr th:only-of-type {\n",
       "        vertical-align: middle;\n",
       "    }\n",
       "\n",
       "    .dataframe tbody tr th {\n",
       "        vertical-align: top;\n",
       "    }\n",
       "\n",
       "    .dataframe thead th {\n",
       "        text-align: right;\n",
       "    }\n",
       "</style>\n",
       "<table border=\"1\" class=\"dataframe\">\n",
       "  <thead>\n",
       "    <tr style=\"text-align: right;\">\n",
       "      <th></th>\n",
       "      <th>n0</th>\n",
       "      <th>r2</th>\n",
       "    </tr>\n",
       "  </thead>\n",
       "  <tbody>\n",
       "    <tr>\n",
       "      <th>0</th>\n",
       "      <td>0.008115</td>\n",
       "      <td>-1.862317</td>\n",
       "    </tr>\n",
       "    <tr>\n",
       "      <th>1</th>\n",
       "      <td>0.008115</td>\n",
       "      <td>-1.862317</td>\n",
       "    </tr>\n",
       "    <tr>\n",
       "      <th>2</th>\n",
       "      <td>0.008115</td>\n",
       "      <td>-1.862317</td>\n",
       "    </tr>\n",
       "    <tr>\n",
       "      <th>3</th>\n",
       "      <td>0.008115</td>\n",
       "      <td>-1.862317</td>\n",
       "    </tr>\n",
       "    <tr>\n",
       "      <th>4</th>\n",
       "      <td>0.008115</td>\n",
       "      <td>-1.862317</td>\n",
       "    </tr>\n",
       "    <tr>\n",
       "      <th>5</th>\n",
       "      <td>0.008115</td>\n",
       "      <td>-1.862317</td>\n",
       "    </tr>\n",
       "    <tr>\n",
       "      <th>6</th>\n",
       "      <td>0.008115</td>\n",
       "      <td>-1.862317</td>\n",
       "    </tr>\n",
       "    <tr>\n",
       "      <th>7</th>\n",
       "      <td>0.008115</td>\n",
       "      <td>-1.862317</td>\n",
       "    </tr>\n",
       "    <tr>\n",
       "      <th>8</th>\n",
       "      <td>0.008115</td>\n",
       "      <td>-1.862317</td>\n",
       "    </tr>\n",
       "    <tr>\n",
       "      <th>9</th>\n",
       "      <td>0.008115</td>\n",
       "      <td>-1.862317</td>\n",
       "    </tr>\n",
       "    <tr>\n",
       "      <th>10</th>\n",
       "      <td>0.008115</td>\n",
       "      <td>-1.862317</td>\n",
       "    </tr>\n",
       "    <tr>\n",
       "      <th>11</th>\n",
       "      <td>0.008115</td>\n",
       "      <td>-1.862317</td>\n",
       "    </tr>\n",
       "    <tr>\n",
       "      <th>12</th>\n",
       "      <td>0.008115</td>\n",
       "      <td>-1.862317</td>\n",
       "    </tr>\n",
       "    <tr>\n",
       "      <th>13</th>\n",
       "      <td>0.008115</td>\n",
       "      <td>-1.862317</td>\n",
       "    </tr>\n",
       "    <tr>\n",
       "      <th>14</th>\n",
       "      <td>0.008115</td>\n",
       "      <td>-1.862317</td>\n",
       "    </tr>\n",
       "    <tr>\n",
       "      <th>15</th>\n",
       "      <td>0.008115</td>\n",
       "      <td>-1.862317</td>\n",
       "    </tr>\n",
       "    <tr>\n",
       "      <th>16</th>\n",
       "      <td>0.008115</td>\n",
       "      <td>-1.862317</td>\n",
       "    </tr>\n",
       "    <tr>\n",
       "      <th>17</th>\n",
       "      <td>0.008115</td>\n",
       "      <td>-1.862317</td>\n",
       "    </tr>\n",
       "    <tr>\n",
       "      <th>18</th>\n",
       "      <td>0.008115</td>\n",
       "      <td>-1.862317</td>\n",
       "    </tr>\n",
       "    <tr>\n",
       "      <th>19</th>\n",
       "      <td>0.008115</td>\n",
       "      <td>-1.862317</td>\n",
       "    </tr>\n",
       "  </tbody>\n",
       "</table>\n",
       "</div>"
      ],
      "text/plain": [
       "          n0        r2\n",
       "0   0.008115 -1.862317\n",
       "1   0.008115 -1.862317\n",
       "2   0.008115 -1.862317\n",
       "3   0.008115 -1.862317\n",
       "4   0.008115 -1.862317\n",
       "5   0.008115 -1.862317\n",
       "6   0.008115 -1.862317\n",
       "7   0.008115 -1.862317\n",
       "8   0.008115 -1.862317\n",
       "9   0.008115 -1.862317\n",
       "10  0.008115 -1.862317\n",
       "11  0.008115 -1.862317\n",
       "12  0.008115 -1.862317\n",
       "13  0.008115 -1.862317\n",
       "14  0.008115 -1.862317\n",
       "15  0.008115 -1.862317\n",
       "16  0.008115 -1.862317\n",
       "17  0.008115 -1.862317\n",
       "18  0.008115 -1.862317\n",
       "19  0.008115 -1.862317"
      ]
     },
     "execution_count": 22,
     "metadata": {},
     "output_type": "execute_result"
    }
   ],
   "source": [
    "result = pd.DataFrame(truncatedBarFreqResult, columns = [\"n0\", \"r2\"])\n",
    "result"
   ]
  },
  {
   "cell_type": "code",
   "execution_count": 23,
   "metadata": {},
   "outputs": [],
   "source": [
    "# cloneSize = primary[0]*cellNumber[0]\n",
    "# min(cloneSize[cloneSize>0])"
   ]
  },
  {
   "cell_type": "code",
   "execution_count": 24,
   "metadata": {},
   "outputs": [],
   "source": [
    "# cellNumber = np.array([125000, 300000, 300000])\n",
    "\n",
    "# primaryCloneSize = primaryBinned\n",
    "# secondaryCloneSize = secondaryBinned\n",
    "# tertiaryCloneSize = tertiaryBinned\n",
    "\n",
    "# # for i in range(2):\n",
    "# #     primaryCloneSize[i][0][:] = primaryCloneSize[i][0] * cellNumber[0]\n",
    "# #     secondaryCloneSize[i][0][:] = secondaryCloneSize[i][0] * cellNumber[1]\n",
    "# #     tertiaryCloneSize[i][0][:] = tertiaryCloneSize[i][0] * cellNumber[2]\n",
    "\n",
    "# # t = np.array([79,68,55])\n",
    "# # proDivRate = 1.0\n",
    "# # n0 = proDivRate*t/2\n",
    "\n",
    "# surv = pd.DataFrame({\"passage\":[\"primary\",\"secondary\",\"tertiary\"],\n",
    "#                      \"survival (%)\":[survivalUsingfrequency(primaryCloneSize, n0p, 0.5, cellNumber[0]) ,\n",
    "#                 survivalUsingfrequency(secondaryCloneSize, n0s, 0.5, cellNumber[1]),\n",
    "#                 survivalUsingfrequency(tertiaryCloneSize, n0t, 0.5, cellNumber[2])]})\n"
   ]
  },
  {
   "cell_type": "code",
   "execution_count": 25,
   "metadata": {},
   "outputs": [],
   "source": [
    "# sum(primaryCloneSize[1][primaryCloneSize[0]>0])"
   ]
  },
  {
   "cell_type": "code",
   "execution_count": 26,
   "metadata": {},
   "outputs": [],
   "source": [
    "# sum(secondaryCloneSize[1][secondaryCloneSize[0]>0])"
   ]
  },
  {
   "cell_type": "code",
   "execution_count": 27,
   "metadata": {},
   "outputs": [],
   "source": [
    "# sum(tertiaryCloneSize[1][tertiaryCloneSize[0]>0])"
   ]
  },
  {
   "cell_type": "code",
   "execution_count": 28,
   "metadata": {},
   "outputs": [],
   "source": [
    "# surv"
   ]
  },
  {
   "cell_type": "code",
   "execution_count": 29,
   "metadata": {},
   "outputs": [],
   "source": [
    "# simSurv = pd.DataFrame({\"passage\":[\"primary\", \"secondary\", \"tertiary\"],\n",
    "#                    \"survival (%)\":[0.176, 0.122, 0.097]})"
   ]
  },
  {
   "cell_type": "code",
   "execution_count": 30,
   "metadata": {},
   "outputs": [],
   "source": [
    "# survPlot=sns.violinplot(x=\"passage\",y=\"survival (%)\",data=surv)\n",
    "# sns.pointplot(x=\"passage\",y=\"survival (%)\",data=simSurv,color=\"yellow\")\n",
    "# # survPlot.set(ylim=(0,0.1))"
   ]
  },
  {
   "cell_type": "code",
   "execution_count": null,
   "metadata": {},
   "outputs": [],
   "source": []
  }
 ],
 "metadata": {
  "kernelspec": {
   "display_name": "Python 3",
   "language": "python",
   "name": "python3"
  },
  "language_info": {
   "codemirror_mode": {
    "name": "ipython",
    "version": 3
   },
   "file_extension": ".py",
   "mimetype": "text/x-python",
   "name": "python",
   "nbconvert_exporter": "python",
   "pygments_lexer": "ipython3",
   "version": "3.7.3"
  }
 },
 "nbformat": 4,
 "nbformat_minor": 2
}
