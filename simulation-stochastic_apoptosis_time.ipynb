{
 "cells": [
  {
   "cell_type": "markdown",
   "metadata": {},
   "source": [
    "# Load modules\n",
    "\n",
    "We use matplotlib for graphs, scipy and numpy for statistical functions and random distributions, and pyabc for inferring parameter sets. We additionally use line_profiler and memory_profiler to measure code performance."
   ]
  },
  {
   "cell_type": "code",
   "execution_count": 1,
   "metadata": {},
   "outputs": [],
   "source": [
    "import os\n",
    "import tempfile"
   ]
  },
  {
   "cell_type": "code",
   "execution_count": 2,
   "metadata": {},
   "outputs": [],
   "source": [
    "import copy, random, functools, pickle, math\n",
    "import numpy as np\n",
    "import pandas as pd\n",
    "from multiprocessing import Pool\n",
    "from scipy import stats\n",
    "from functools import partial\n",
    "import matplotlib.pyplot as plt\n",
    "%matplotlib inline\n",
    "import scipy as sp"
   ]
  },
  {
   "cell_type": "markdown",
   "metadata": {},
   "source": [
    "# Simulating cell fates\n",
    "\n",
    "We define a clone through a record type, where we record when the clone was born (birthtime), when the cell left the clone (lifeTime), the random number generator used to determine the next fate (rng), whether the cell is a stem cell (stem) and the probability of dividing to give daughters with the same cell fate (r). We also include a list of other clones that the clone has given birth to (sibling), and an integer used to assign a unique identity to every cell created (identity). Note we have defined other elements in the record, which we use in future."
   ]
  },
  {
   "cell_type": "markdown",
   "metadata": {},
   "source": [
    "In each loop fateSimulate first tests whether the cell has been simulated enough times, and if it has returning a modified version of the last state of the cell. This is either the last state with the lifetime set to the current time (and a Boolean variable, survivor, set to true to indicate this), or if the cell is not a stem cell at the end of the simulation, the last state with the lifetime set to the current time+1.\n",
    "\n",
    "Next, if the cell is still a stem cell, it creates a new daughter cell as a copy of the parent, with a new unique identity value. We then determine using r and a random number whether the daughter and parent are stem cells after division, defining a new cell to replace the parent and the daughter. Finally, we restart the loop using the replacement cell with the daughter added to the list of siblings.\n",
    "\n",
    "This however is not sufficient- we want to simulate all the daugter cells as well to see how the clone grows. To do this we define a recursive function cloneSimulateInternal, which simulates a single cell, then recursively runs on all of the daughter cells (and their daughter cells and so on), appending only the key information as a tuple to list reference. This function itself is run through cloneSimulate, which sorts the final list by unique identifier (this is important for later functions).\n",
    "\n",
    "Finally, the function experiment is defined which takes a list of discrete timepoints, runs cloneSimulate, and asks how many cells are alive at each time."
   ]
  },
  {
   "cell_type": "code",
   "execution_count": 3,
   "metadata": {},
   "outputs": [],
   "source": [
    "'''\n",
    "new model of stem cell (10):\n",
    "    e = 0\n",
    "    only symmetrical division: one stem cell and one progenitor cells are produced\n",
    "    \n",
    "new model of stem cell (19):\n",
    "    rand < e:       probability = e,     two stem cells are produced\n",
    "    e < rand <1:    probability = 1-e,   one stem cell and one progenitor cells are produced\n",
    "    \n",
    "new model of progenitor cell (10):\n",
    "    rand < 0.5:     probability = 0.5,   two stem-like cells are produced \n",
    "    rand > 0.5:     probability = 0.5,   two differentiated cells are produced\n",
    "'''  \n",
    "\n",
    "class cell:\n",
    "    def __init__(self,initialCell,stem,epsilon,randomNumberGenerator):\n",
    "        \n",
    "        # input variables:\n",
    "        # initialCell: the birth time point of the initial stem cell or progenitor cell\n",
    "        # stem: whether this initial cell is a stem-like cell        \n",
    "        # epsilon: the probability of symmetrical division        \n",
    "        # randomNumberGenerator: a random number generated between 0 and 1. \n",
    "        # Used to be compared with the epsilon, which leads to the fate (stemness) of the daughtor cells (self and sibling)                 \n",
    "        \n",
    "        self.currentTime = initialCell\n",
    "        self.stem = stem\n",
    "        self.epsilon = epsilon\n",
    "        self.rng = randomNumberGenerator\n",
    "        self.lifetime = 0\n",
    "        self.birthtime = self.currentTime\n",
    "        self.siblings = []\n",
    " \n",
    "        # variables generated:\n",
    "        # currentTime: current time point; redefined after each cell division\n",
    "        # lifetime: the time point of death\n",
    "        # siblings: a collection of cell fates of all the sibling cells generated from the initial cell\n",
    "        \n",
    "    def simulateStemCell(self,maxSimulation):\n",
    "        \n",
    "        # input variables:\n",
    "        # self: the initial cell, including all the parameters e.g. stemness, epsilon\n",
    "        # maxSimulation: the time point after the maximum number of division of the initial cell \n",
    "        # once the currentTime reaches maxSimulation, the division will stop\n",
    "        \n",
    "        cont = True\n",
    "        while(cont):\n",
    "            if self.lifetime > 0:\n",
    "                cont = False\n",
    "            elif self.currentTime>maxSimulation:\n",
    "                if self.stem:\n",
    "                    self.lifetime = self.currentTime\n",
    "                else:\n",
    "                    self.lifetime = self.currentTime+1\n",
    "                cont = False\n",
    "            else:\n",
    "                if self.stem:\n",
    "                    self.currentTime += 1\n",
    "                    sibling = cell(self.currentTime,self.stem,self.epsilon,self.rng)\n",
    "                    rand = self.rng.random()\n",
    "                    if rand < self.epsilon:\n",
    "                        pass\n",
    "                    else:\n",
    "                        sibling.stem = False\n",
    "                    self.siblings.append(sibling)\n",
    "                else:\n",
    "                    self.currentTime += 1\n",
    "                    self.lifetime = self.currentTime\n",
    "                    \n",
    "    def simulateProgenitorCell(self,maxSimulation,lossAndDivisionTime):\n",
    "        \n",
    "        # input variables:\n",
    "        # self: the initial cell, including all the parameters e.g. stem-like, epsilon\n",
    "        # maxSimulation: the time point after the maximum number of division of the initial cell\n",
    "        # lossAndDivisionTime: the loss-and-division time (the division time of progenitor cells) compared to the division time (the division time of stem cells (1))\n",
    "        # such that the progenitor cells divide more rapidly than the stem cells\n",
    "        \n",
    "        cont = True\n",
    "        while(cont):\n",
    "            if self.lifetime > 0:\n",
    "                cont = False\n",
    "            elif self.currentTime>maxSimulation:\n",
    "                if self.stem:\n",
    "                    self.lifetime = self.currentTime\n",
    "                else:\n",
    "                    # the apoptosis time of differentiated cells is about double of the division time of progenitor cells\n",
    "                    r = random.random()\n",
    "                    apoptosisTime = lossAndDivisionTime*2*math.log(1/r)\n",
    "                    self.lifetime = self.currentTime + apoptosisTime\n",
    "                cont = False\n",
    "            else:\n",
    "                # if stem-like cell\n",
    "                if self.stem:\n",
    "                    self.currentTime += lossAndDivisionTime\n",
    "                    sibling = cell(self.currentTime,self.stem,self.epsilon,self.rng)\n",
    "                    rand = self.rng.random()\n",
    "                    if rand < 0.5:\n",
    "                        pass\n",
    "                    else:\n",
    "                        self.stem = False\n",
    "                        sibling.stem = False\n",
    "                    self.siblings.append(sibling)\n",
    "                else:\n",
    "                    # the apoptosis time of differentiated cells is about double of the division time of progenitor cells\n",
    "                    r = random.random()\n",
    "                    apoptosisTime = lossAndDivisionTime*2*math.log(1/r)\n",
    "                    self.currentTime += apoptosisTime\n",
    "                    self.lifetime = self.currentTime"
   ]
  },
  {
   "cell_type": "code",
   "execution_count": 4,
   "metadata": {},
   "outputs": [],
   "source": [
    "def simulateStemCloneCore(initialCell,cellFate,parent,nameMarker,maxSimulation):\n",
    "    \n",
    "    # input variables:\n",
    "    # initialCell: the birth time point of each initial stem cell (self and sibling)\n",
    "    # cellFate: includes birth time, life time, parent, and stemness\n",
    "    # parent: the birth time point of the parent cell of the initial cell\n",
    "    # nameMarker: a marker name given to the initial cell\n",
    "    # maxSimulation: the time point after the maximum number of division of the initial cell \n",
    "    \n",
    "    # simulation for the initial stem cell (self)         \n",
    "    initialCell.simulateStemCell(maxSimulation)\n",
    "    nameMarker[0]+=1\n",
    "    name = nameMarker[0]\n",
    "    cellFate.append((initialCell.birthtime,\n",
    "                    initialCell.lifetime,\n",
    "                    parent,\n",
    "                    initialCell.stem)) \n",
    "    \n",
    "    # simulation for the sibling cell (self.sibling)\n",
    "    for sibling in initialCell.siblings:\n",
    "        simulateStemCloneCore(sibling,cellFate,name,nameMarker,maxSimulation)\n",
    "        \n",
    "    # output variables:\n",
    "    # cellFate: a collection of cell fates of all the cells generated (self and sibling) \n",
    "        \n",
    "    return((cellFate)) \n",
    "\n",
    "\n",
    "def simulateStemClone(initialCell,maxSimulation):\n",
    "    return(simulateStemCloneCore(initialCell=initialCell,cellFate=[],parent=-1,nameMarker=[-1],maxSimulation=maxSimulation))\n",
    "\n",
    "\n",
    "def simulateProgenitorCloneCore(initialCell,cellFate,parent,nameMarker,maxSimulation,lossAndDivisionTime):\n",
    "    \n",
    "    # input variables:\n",
    "    # initialCell: the birth time point of each initial progenitor cell (self and sibling)\n",
    "    # cellFate: includes birth time, life time, parent, and stem-like\n",
    "    # parent: the birth time point of the parent cell of the initial cell\n",
    "    # nameMarker: a marker name given to the initial cell\n",
    "    # maxSimulation: the time point after the maximum number of division of the initial cell\n",
    "    # lossAndDivisionTime: the loss-and-division time (the division time of progenitor cells) compared to the division time (the division time of stem cells (1))\n",
    "        \n",
    "    # simulation for the initial progenitor cell (self)         \n",
    "    initialCell.simulateProgenitorCell(maxSimulation,lossAndDivisionTime)\n",
    "    nameMarker[0]+=1\n",
    "    name = nameMarker[0]\n",
    "    cellFate.append((initialCell.birthtime,\n",
    "                     initialCell.lifetime,\n",
    "                     parent,\n",
    "                     initialCell.stem))\n",
    "    \n",
    "    # simulation for the sibling cell (self.sibling)\n",
    "    for sibling in initialCell.siblings:\n",
    "        simulateProgenitorCloneCore(sibling,cellFate,name,nameMarker,maxSimulation,lossAndDivisionTime)\n",
    "    \n",
    "    # output variables:\n",
    "    # cellFate: a collection of cell fates of all the cells generated (self and sibling) \n",
    "    \n",
    "    return((cellFate)) \n",
    "\n",
    "\n",
    "def simulateProgenitorClone(initialCell,maxSimulation,lossAndDivisionTime):\n",
    "    return(simulateProgenitorCloneCore(initialCell=initialCell,cellFate=[],parent=-1,nameMarker=[-1],maxSimulation=maxSimulation,lossAndDivisionTime=lossAndDivisionTime))"
   ]
  },
  {
   "cell_type": "code",
   "execution_count": 5,
   "metadata": {},
   "outputs": [
    {
     "data": {
      "text/plain": [
       "[(0, 6, -1, True),\n",
       " (1, 2, 0, False),\n",
       " (2, 3, 0, False),\n",
       " (3, 4, 0, False),\n",
       " (4, 5, 0, False),\n",
       " (5, 6, 0, False),\n",
       " (6, 7, 0, False)]"
      ]
     },
     "execution_count": 5,
     "metadata": {},
     "output_type": "execute_result"
    }
   ],
   "source": [
    "'''\n",
    "testing the model (10) of stem cell\n",
    "epsilon = 0\n",
    "'''\n",
    "a = cell(initialCell=0, stem=True, epsilon=0, randomNumberGenerator=random)\n",
    "testingA = simulateStemClone(initialCell=a,maxSimulation=5)\n",
    "testingA\n",
    "# output: cell fate, i.e. (birthtime, lifetime, parent, stem)"
   ]
  },
  {
   "cell_type": "code",
   "execution_count": 6,
   "metadata": {},
   "outputs": [
    {
     "data": {
      "text/plain": [
       "[(0, 6, -1, True),\n",
       " (1, 6, 0, True),\n",
       " (2, 3, 1, False),\n",
       " (3, 6, 1, True),\n",
       " (4, 6, 3, True),\n",
       " (5, 6, 4, True),\n",
       " (6, 6, 5, True),\n",
       " (6, 6, 4, True),\n",
       " (5, 6, 3, False),\n",
       " (6, 7, 3, False),\n",
       " (4, 5, 1, False),\n",
       " (5, 6, 1, False),\n",
       " (6, 6, 1, True),\n",
       " (2, 6, 0, True),\n",
       " (3, 6, 13, True),\n",
       " (4, 6, 14, True),\n",
       " (5, 6, 15, False),\n",
       " (6, 6, 15, True),\n",
       " (5, 6, 14, False),\n",
       " (6, 7, 14, False),\n",
       " (4, 6, 13, True),\n",
       " (5, 6, 20, False),\n",
       " (6, 7, 20, False),\n",
       " (5, 6, 13, False),\n",
       " (6, 7, 13, False),\n",
       " (3, 6, 0, True),\n",
       " (4, 5, 25, False),\n",
       " (5, 6, 25, True),\n",
       " (6, 7, 27, False),\n",
       " (6, 6, 25, True),\n",
       " (4, 6, 0, True),\n",
       " (5, 6, 30, False),\n",
       " (6, 7, 30, False),\n",
       " (5, 6, 0, True),\n",
       " (6, 7, 33, False),\n",
       " (6, 7, 0, False)]"
      ]
     },
     "execution_count": 6,
     "metadata": {},
     "output_type": "execute_result"
    }
   ],
   "source": [
    "'''\n",
    "testing the model (19) of stem cell\n",
    "'''\n",
    "b = cell(initialCell=0, stem=True, epsilon=0.5, randomNumberGenerator=random)\n",
    "testingB = simulateStemClone(initialCell=b,maxSimulation=5)\n",
    "testingB\n",
    "# output: cell fate, i.e. (birthtime, lifetime, parent, stem)"
   ]
  },
  {
   "cell_type": "code",
   "execution_count": 7,
   "metadata": {},
   "outputs": [
    {
     "data": {
      "text/plain": [
       "[(0, 0.38342703902926023, -1, False),\n",
       " (0.1, 0.2864748069997468, 0, False),\n",
       " (0.2, 0.28776144877550364, 1, False),\n",
       " (0.2, 0.4056746962756201, 0, False),\n",
       " (0.30000000000000004, 0.4985507849208508, 3, False),\n",
       " (0.30000000000000004, 0.3327800600998333, 0, False)]"
      ]
     },
     "execution_count": 7,
     "metadata": {},
     "output_type": "execute_result"
    }
   ],
   "source": [
    "'''\n",
    "testing the model (10) of progenitor cell\n",
    "'''\n",
    "c = cell(initialCell=0, stem=True, epsilon=0.5, randomNumberGenerator=random)\n",
    "testingC = simulateProgenitorClone(initialCell=c,maxSimulation=5,lossAndDivisionTime = 0.1)\n",
    "testingC\n",
    "# output: cell fate, i.e. (birthtime, lifetime, parent, stem)"
   ]
  },
  {
   "cell_type": "code",
   "execution_count": 8,
   "metadata": {},
   "outputs": [],
   "source": [
    "def fateToCloneSize(clone,countingTimePoint,lossAndDivisionTime):\n",
    "    \n",
    "    # input variables:\n",
    "    # clone: a collection of cell fates of all the cells in a clone \n",
    "    # countingTimePoint: the time point selected to count the cells in each clone\n",
    "    # lossAndDivisionTime: the loss-and-division time (the division time of progenitor cells) compared to the division time (the division time of stem cells (1))\n",
    "    \n",
    "    count = 0\n",
    "    # counting based on birth time and life time of each cell\n",
    "    \n",
    "    for (birthtime, lifetime, parent, stem) in clone:\n",
    "        \n",
    "        # firstly count the number of stem cells\n",
    "        if stem == True:\n",
    "            if birthtime <= countingTimePoint:\n",
    "                count += 1\n",
    "            else:\n",
    "                count += 0\n",
    "        \n",
    "        # secondly count the number of progenitor cells\n",
    "        else:\n",
    "            maxProgenitorSimulation = countingTimePoint - birthtime\n",
    "            progenitorCell = cell(initialCell=0,stem=True,epsilon=0.5,randomNumberGenerator=random)\n",
    "            progenitorClone = simulateProgenitorClone(initialCell=progenitorCell,maxSimulation=maxProgenitorSimulation,lossAndDivisionTime=lossAndDivisionTime)\n",
    "            \n",
    "            for (Birthtime, Lifetime, Parent, Stem) in progenitorClone:\n",
    "                if (birthtime + Birthtime <= countingTimePoint) and (birthtime + Lifetime > countingTimePoint):\n",
    "                    count += 1\n",
    "                else:\n",
    "                    count += 0\n",
    "    \n",
    "    # output variable:\n",
    "    # count: cell count of each clone\n",
    "    \n",
    "    return(count)\n",
    "        \n",
    "def cloneGenerator(countingTimePoint,epsilon,lossAndDivisionTime,N):\n",
    "    \n",
    "    # input variable:\n",
    "    # countingTimePoint: the time point selected to count the cells in each clone\n",
    "    # epsilon: the probability of symmetrical division of stem cells\n",
    "    # lossAndDivisionTime: the loss-and-division time (the division time of progenitor cells) compared to the division time (the division time of stem cells (1))\n",
    "    # N: the number of parallele tasks\n",
    "    \n",
    "    simulation = 1000\n",
    "    # during each simulaion, a clonal growth is simulated\n",
    "    maxStemSimulation = countingTimePoint\n",
    "    def seedWrapper(epsilon,maxSimulation,seed):\n",
    "        random.seed(seed)\n",
    "        clone = cell(initialCell=0,stem=True,epsilon=epsilon,randomNumberGenerator=random)\n",
    "        return(simulateStemClone(initialCell=clone,maxSimulation=maxSimulation))\n",
    "    fates = np.asarray( [np.asarray(seedWrapper(epsilon,maxStemSimulation,N*1000+seed)) for seed in range(simulation)] )\n",
    "    return([(fateToCloneSize(clone,countingTimePoint,lossAndDivisionTime)) for clone in fates])\n",
    "\n",
    "def multiSimulation(N):\n",
    "    # N: the number of parallele tasks    \n",
    "    countingTimePoint=5\n",
    "    epsilon=0.1\n",
    "    lossAndDivisionTime=0.067\n",
    "    return(cloneGenerator(countingTimePoint,epsilon,lossAndDivisionTime,N))\n"
   ]
  },
  {
   "cell_type": "code",
   "execution_count": 9,
   "metadata": {},
   "outputs": [
    {
     "name": "stdout",
     "output_type": "stream",
     "text": [
      "CPU times: user 3.22 ms, sys: 1.64 ms, total: 4.86 ms\n",
      "Wall time: 4.76 s\n"
     ]
    }
   ],
   "source": [
    "from multiprocessing import Pool\n",
    "\n",
    "if __name__ == '__main__':\n",
    "    with Pool(2) as p:\n",
    "        %time results = p.map(multiSimulation, range(2))"
   ]
  },
  {
   "cell_type": "code",
   "execution_count": 10,
   "metadata": {},
   "outputs": [
    {
     "data": {
      "text/plain": [
       "(2000,)"
      ]
     },
     "execution_count": 10,
     "metadata": {},
     "output_type": "execute_result"
    }
   ],
   "source": [
    "test = np.concatenate(results)\n",
    "np.shape(test)"
   ]
  },
  {
   "cell_type": "code",
   "execution_count": 11,
   "metadata": {},
   "outputs": [
    {
     "name": "stdout",
     "output_type": "stream",
     "text": [
      "minimum clone size = 2\n",
      "maximum clone size = 451\n"
     ]
    },
    {
     "name": "stderr",
     "output_type": "stream",
     "text": [
      "//anaconda3/lib/python3.7/site-packages/ipykernel_launcher.py:4: RuntimeWarning: divide by zero encountered in true_divide\n",
      "  after removing the cwd from sys.path.\n"
     ]
    },
    {
     "data": {
      "image/png": "[encoded data removed]",
      "text/plain": [
       "<Figure size 432x288 with 1 Axes>"
      ]
     },
     "metadata": {
      "needs_background": "light"
     },
     "output_type": "display_data"
    }
   ],
   "source": [
    "def negativeBinomialDistribution(divisionRate, countingTimePoint, n):\n",
    "    n0 = divisionRate * countingTimePoint / 2\n",
    "    N0 = np.log(n0)\n",
    "    P = 1 / N0 * np.exp(-n/n0) / n\n",
    "    return(P)\n",
    "\n",
    "def checkingNegativeBinomialDistribution(cloneSizes,countingTimePoint):\n",
    "    minimum = min(cloneSizes)\n",
    "    print('minimum clone size = ' + str(minimum))\n",
    "    maximum = max(cloneSizes)\n",
    "    print('maximum clone size = ' + str(maximum))\n",
    "    sizes = list(np.array(cloneSizes))\n",
    "    freq = np.asarray([sizes.count(i+1) for i in range(maximum)])\n",
    "    prob = freq/sum(freq)\n",
    "    x = np.asarray(range(maximum))\n",
    "    plt.bar(x,prob,width=2,color='y')\n",
    "    plt.plot(x, negativeBinomialDistribution(divisionRate=1/0.067, countingTimePoint=countingTimePoint, n=x), 'r')\n",
    "    plt.xlabel('clone size')\n",
    "    plt.ylabel('proportion')\n",
    "#     plt.yscale('log')\n",
    "    \n",
    "checkingNegativeBinomialDistribution(cloneSizes=test,countingTimePoint=5)"
   ]
  },
  {
   "cell_type": "code",
   "execution_count": 12,
   "metadata": {},
   "outputs": [
    {
     "name": "stdout",
     "output_type": "stream",
     "text": [
      "minimum clone size = 2\n",
      "maximum clone size = 451\n"
     ]
    },
    {
     "name": "stderr",
     "output_type": "stream",
     "text": [
      "//anaconda3/lib/python3.7/site-packages/ipykernel_launcher.py:9: RuntimeWarning: divide by zero encountered in log\n",
      "  if __name__ == '__main__':\n",
      "//anaconda3/lib/python3.7/site-packages/ipykernel_launcher.py:4: RuntimeWarning: divide by zero encountered in true_divide\n",
      "  after removing the cwd from sys.path.\n"
     ]
    },
    {
     "data": {
      "image/png": "[encoded data removed]",
      "text/plain": [
       "<Figure size 432x288 with 1 Axes>"
      ]
     },
     "metadata": {
      "needs_background": "light"
     },
     "output_type": "display_data"
    }
   ],
   "source": [
    "def logSizeDistribution(cloneSizes,countingTimePoint):\n",
    "    minimum = min(cloneSizes)\n",
    "    print('minimum clone size = ' + str(minimum))\n",
    "    maximum = max(cloneSizes)\n",
    "    print('maximum clone size = ' + str(maximum))\n",
    "    x = np.asarray(range(maximum))\n",
    "    sizes = list(np.array(cloneSizes))\n",
    "    freq = np.asarray([sizes.count(i+1) for i in range(maximum)])\n",
    "    plt.bar(x,np.log(freq),width=2,color='y') \n",
    "    plt.plot(x, np.log(sum(freq)*negativeBinomialDistribution(divisionRate=1/0.067, countingTimePoint=countingTimePoint, n=x)), 'r')\n",
    "    plt.ylim((0, 8))\n",
    "    plt.xlabel('clone size')\n",
    "    plt.ylabel('log frequency')\n",
    "    \n",
    "logSizeDistribution(cloneSizes=test,countingTimePoint=5)"
   ]
  },
  {
   "cell_type": "code",
   "execution_count": 13,
   "metadata": {},
   "outputs": [],
   "source": [
    "# pickle_out = open(\"pickled_timepoint_15_simulation_10p4\",\"wb\")\n",
    "# pickle.dump(test, pickle_out)\n",
    "# pickle_out.close()"
   ]
  },
  {
   "cell_type": "code",
   "execution_count": 14,
   "metadata": {},
   "outputs": [],
   "source": [
    "# pickle_in = open(\"pickled_timepoint_25\",\"rb\")\n",
    "# cloneSizes = pickle.load(pickle_in)"
   ]
  },
  {
   "cell_type": "code",
   "execution_count": null,
   "metadata": {},
   "outputs": [],
   "source": []
  }
 ],
 "metadata": {
  "kernelspec": {
   "display_name": "Python 3",
   "language": "python",
   "name": "python3"
  },
  "language_info": {
   "codemirror_mode": {
    "name": "ipython",
    "version": 3
   },
   "file_extension": ".py",
   "mimetype": "text/x-python",
   "name": "python",
   "nbconvert_exporter": "python",
   "pygments_lexer": "ipython3",
   "version": "3.7.3"
  }
 },
 "nbformat": 4,
 "nbformat_minor": 2
}
